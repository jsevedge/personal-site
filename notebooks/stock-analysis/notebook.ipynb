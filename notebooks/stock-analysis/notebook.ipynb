{
 "cells": [
  {
   "cell_type": "markdown",
   "id": "748f6d8d",
   "metadata": {},
   "source": [
    "## Jupyter notebook exploring historical S&P 500 performance\n",
    "\n",
    "During initial setup we configure [matplotlib](https://matplotlib.org) for visualizations, load the data into a data frame using [pandas](https://pandas.pydata.org/docs/user_guide/index.html#user-guide) and show the first few records."
   ]
  },
  {
   "cell_type": "code",
   "execution_count": 28,
   "id": "cc396184",
   "metadata": {},
   "outputs": [
    {
     "data": {
      "text/html": [
       "<div>\n",
       "<style scoped>\n",
       "    .dataframe tbody tr th:only-of-type {\n",
       "        vertical-align: middle;\n",
       "    }\n",
       "\n",
       "    .dataframe tbody tr th {\n",
       "        vertical-align: top;\n",
       "    }\n",
       "\n",
       "    .dataframe thead th {\n",
       "        text-align: right;\n",
       "    }\n",
       "</style>\n",
       "<table border=\"1\" class=\"dataframe\">\n",
       "  <thead>\n",
       "    <tr style=\"text-align: right;\">\n",
       "      <th></th>\n",
       "      <th>date</th>\n",
       "      <th>price</th>\n",
       "      <th>open</th>\n",
       "      <th>high</th>\n",
       "      <th>low</th>\n",
       "      <th>volume</th>\n",
       "      <th>change_percent</th>\n",
       "    </tr>\n",
       "  </thead>\n",
       "  <tbody>\n",
       "    <tr>\n",
       "      <th>0</th>\n",
       "      <td>Nov 14, 2019</td>\n",
       "      <td>3,096.63</td>\n",
       "      <td>3,090.75</td>\n",
       "      <td>3,098.20</td>\n",
       "      <td>3,083.26</td>\n",
       "      <td>-</td>\n",
       "      <td>0.08%</td>\n",
       "    </tr>\n",
       "    <tr>\n",
       "      <th>1</th>\n",
       "      <td>Nov 13, 2019</td>\n",
       "      <td>3,094.04</td>\n",
       "      <td>3,084.18</td>\n",
       "      <td>3,098.06</td>\n",
       "      <td>3,078.80</td>\n",
       "      <td>-</td>\n",
       "      <td>0.07%</td>\n",
       "    </tr>\n",
       "    <tr>\n",
       "      <th>2</th>\n",
       "      <td>Nov 12, 2019</td>\n",
       "      <td>3,091.84</td>\n",
       "      <td>3,089.28</td>\n",
       "      <td>3,102.61</td>\n",
       "      <td>3,084.73</td>\n",
       "      <td>-</td>\n",
       "      <td>0.16%</td>\n",
       "    </tr>\n",
       "    <tr>\n",
       "      <th>3</th>\n",
       "      <td>Nov 11, 2019</td>\n",
       "      <td>3,087.01</td>\n",
       "      <td>3,080.33</td>\n",
       "      <td>3,088.33</td>\n",
       "      <td>3,075.82</td>\n",
       "      <td>-</td>\n",
       "      <td>-0.20%</td>\n",
       "    </tr>\n",
       "    <tr>\n",
       "      <th>4</th>\n",
       "      <td>Nov 08, 2019</td>\n",
       "      <td>3,093.08</td>\n",
       "      <td>3,081.25</td>\n",
       "      <td>3,093.09</td>\n",
       "      <td>3,073.58</td>\n",
       "      <td>-</td>\n",
       "      <td>0.26%</td>\n",
       "    </tr>\n",
       "    <tr>\n",
       "      <th>5</th>\n",
       "      <td>Nov 07, 2019</td>\n",
       "      <td>3,085.18</td>\n",
       "      <td>3,087.02</td>\n",
       "      <td>3,097.77</td>\n",
       "      <td>3,080.23</td>\n",
       "      <td>-</td>\n",
       "      <td>0.27%</td>\n",
       "    </tr>\n",
       "    <tr>\n",
       "      <th>6</th>\n",
       "      <td>Nov 06, 2019</td>\n",
       "      <td>3,076.78</td>\n",
       "      <td>3,075.10</td>\n",
       "      <td>3,078.34</td>\n",
       "      <td>3,065.89</td>\n",
       "      <td>-</td>\n",
       "      <td>0.07%</td>\n",
       "    </tr>\n",
       "    <tr>\n",
       "      <th>7</th>\n",
       "      <td>Nov 05, 2019</td>\n",
       "      <td>3,074.62</td>\n",
       "      <td>3,080.80</td>\n",
       "      <td>3,083.95</td>\n",
       "      <td>3,072.15</td>\n",
       "      <td>-</td>\n",
       "      <td>-0.12%</td>\n",
       "    </tr>\n",
       "    <tr>\n",
       "      <th>8</th>\n",
       "      <td>Nov 04, 2019</td>\n",
       "      <td>3,078.27</td>\n",
       "      <td>3,078.96</td>\n",
       "      <td>3,085.20</td>\n",
       "      <td>3,074.87</td>\n",
       "      <td>-</td>\n",
       "      <td>0.37%</td>\n",
       "    </tr>\n",
       "    <tr>\n",
       "      <th>9</th>\n",
       "      <td>Nov 01, 2019</td>\n",
       "      <td>3,066.91</td>\n",
       "      <td>3,050.72</td>\n",
       "      <td>3,066.95</td>\n",
       "      <td>3,050.72</td>\n",
       "      <td>-</td>\n",
       "      <td>0.97%</td>\n",
       "    </tr>\n",
       "  </tbody>\n",
       "</table>\n",
       "</div>"
      ],
      "text/plain": [
       "           date     price      open      high       low volume change_percent\n",
       "0  Nov 14, 2019  3,096.63  3,090.75  3,098.20  3,083.26      -          0.08%\n",
       "1  Nov 13, 2019  3,094.04  3,084.18  3,098.06  3,078.80      -          0.07%\n",
       "2  Nov 12, 2019  3,091.84  3,089.28  3,102.61  3,084.73      -          0.16%\n",
       "3  Nov 11, 2019  3,087.01  3,080.33  3,088.33  3,075.82      -         -0.20%\n",
       "4  Nov 08, 2019  3,093.08  3,081.25  3,093.09  3,073.58      -          0.26%\n",
       "5  Nov 07, 2019  3,085.18  3,087.02  3,097.77  3,080.23      -          0.27%\n",
       "6  Nov 06, 2019  3,076.78  3,075.10  3,078.34  3,065.89      -          0.07%\n",
       "7  Nov 05, 2019  3,074.62  3,080.80  3,083.95  3,072.15      -         -0.12%\n",
       "8  Nov 04, 2019  3,078.27  3,078.96  3,085.20  3,074.87      -          0.37%\n",
       "9  Nov 01, 2019  3,066.91  3,050.72  3,066.95  3,050.72      -          0.97%"
      ]
     },
     "execution_count": 28,
     "metadata": {},
     "output_type": "execute_result"
    }
   ],
   "source": [
    "%matplotlib inline\n",
    "import pandas as pd\n",
    "data_frame = pd.read_csv(\"data.csv\")\n",
    "data_frame.head(10)"
   ]
  },
  {
   "cell_type": "markdown",
   "id": "d2de63db",
   "metadata": {},
   "source": [
    "## Get info for the data (collection)\n",
    "\n",
    "Now that we have a basic idea of how the data is structured lets get more info on the data frame to get an idea of data size, typing, etc."
   ]
  },
  {
   "cell_type": "code",
   "execution_count": 7,
   "id": "dac97616",
   "metadata": {},
   "outputs": [
    {
     "name": "stdout",
     "output_type": "stream",
     "text": [
      "<class 'pandas.core.frame.DataFrame'>\n",
      "RangeIndex: 5000 entries, 0 to 4999\n",
      "Data columns (total 7 columns):\n",
      " #   Column          Non-Null Count  Dtype \n",
      "---  ------          --------------  ----- \n",
      " 0   date            5000 non-null   object\n",
      " 1   price           5000 non-null   object\n",
      " 2   open            5000 non-null   object\n",
      " 3   high            5000 non-null   object\n",
      " 4   low             5000 non-null   object\n",
      " 5   volume          5000 non-null   object\n",
      " 6   change_percent  5000 non-null   object\n",
      "dtypes: object(7)\n",
      "memory usage: 273.6+ KB\n"
     ]
    }
   ],
   "source": [
    "data_frame.info()"
   ]
  },
  {
   "cell_type": "markdown",
   "id": "7387b7c2",
   "metadata": {},
   "source": [
    "## Clean up data (preparation)\n",
    "\n",
    "Let's clean up the data frame a bit so we are focused only on the data we care about. "
   ]
  },
  {
   "cell_type": "code",
   "execution_count": 39,
   "id": "67a7f493",
   "metadata": {},
   "outputs": [
    {
     "data": {
      "text/html": [
       "<div>\n",
       "<style scoped>\n",
       "    .dataframe tbody tr th:only-of-type {\n",
       "        vertical-align: middle;\n",
       "    }\n",
       "\n",
       "    .dataframe tbody tr th {\n",
       "        vertical-align: top;\n",
       "    }\n",
       "\n",
       "    .dataframe thead th {\n",
       "        text-align: right;\n",
       "    }\n",
       "</style>\n",
       "<table border=\"1\" class=\"dataframe\">\n",
       "  <thead>\n",
       "    <tr style=\"text-align: right;\">\n",
       "      <th></th>\n",
       "      <th>date</th>\n",
       "      <th>price</th>\n",
       "      <th>open</th>\n",
       "      <th>high</th>\n",
       "      <th>low</th>\n",
       "    </tr>\n",
       "  </thead>\n",
       "  <tbody>\n",
       "    <tr>\n",
       "      <th>0</th>\n",
       "      <td>2019-11-14</td>\n",
       "      <td>3096.63</td>\n",
       "      <td>3,090.75</td>\n",
       "      <td>3,098.20</td>\n",
       "      <td>3,083.26</td>\n",
       "    </tr>\n",
       "    <tr>\n",
       "      <th>1</th>\n",
       "      <td>2019-11-13</td>\n",
       "      <td>3094.04</td>\n",
       "      <td>3,084.18</td>\n",
       "      <td>3,098.06</td>\n",
       "      <td>3,078.80</td>\n",
       "    </tr>\n",
       "    <tr>\n",
       "      <th>2</th>\n",
       "      <td>2019-11-12</td>\n",
       "      <td>3091.84</td>\n",
       "      <td>3,089.28</td>\n",
       "      <td>3,102.61</td>\n",
       "      <td>3,084.73</td>\n",
       "    </tr>\n",
       "    <tr>\n",
       "      <th>3</th>\n",
       "      <td>2019-11-11</td>\n",
       "      <td>3087.01</td>\n",
       "      <td>3,080.33</td>\n",
       "      <td>3,088.33</td>\n",
       "      <td>3,075.82</td>\n",
       "    </tr>\n",
       "    <tr>\n",
       "      <th>4</th>\n",
       "      <td>2019-11-08</td>\n",
       "      <td>3093.08</td>\n",
       "      <td>3,081.25</td>\n",
       "      <td>3,093.09</td>\n",
       "      <td>3,073.58</td>\n",
       "    </tr>\n",
       "    <tr>\n",
       "      <th>5</th>\n",
       "      <td>2019-11-07</td>\n",
       "      <td>3085.18</td>\n",
       "      <td>3,087.02</td>\n",
       "      <td>3,097.77</td>\n",
       "      <td>3,080.23</td>\n",
       "    </tr>\n",
       "    <tr>\n",
       "      <th>6</th>\n",
       "      <td>2019-11-06</td>\n",
       "      <td>3076.78</td>\n",
       "      <td>3,075.10</td>\n",
       "      <td>3,078.34</td>\n",
       "      <td>3,065.89</td>\n",
       "    </tr>\n",
       "    <tr>\n",
       "      <th>7</th>\n",
       "      <td>2019-11-05</td>\n",
       "      <td>3074.62</td>\n",
       "      <td>3,080.80</td>\n",
       "      <td>3,083.95</td>\n",
       "      <td>3,072.15</td>\n",
       "    </tr>\n",
       "    <tr>\n",
       "      <th>8</th>\n",
       "      <td>2019-11-04</td>\n",
       "      <td>3078.27</td>\n",
       "      <td>3,078.96</td>\n",
       "      <td>3,085.20</td>\n",
       "      <td>3,074.87</td>\n",
       "    </tr>\n",
       "    <tr>\n",
       "      <th>9</th>\n",
       "      <td>2019-11-01</td>\n",
       "      <td>3066.91</td>\n",
       "      <td>3,050.72</td>\n",
       "      <td>3,066.95</td>\n",
       "      <td>3,050.72</td>\n",
       "    </tr>\n",
       "  </tbody>\n",
       "</table>\n",
       "</div>"
      ],
      "text/plain": [
       "        date    price      open      high       low\n",
       "0 2019-11-14  3096.63  3,090.75  3,098.20  3,083.26\n",
       "1 2019-11-13  3094.04  3,084.18  3,098.06  3,078.80\n",
       "2 2019-11-12  3091.84  3,089.28  3,102.61  3,084.73\n",
       "3 2019-11-11  3087.01  3,080.33  3,088.33  3,075.82\n",
       "4 2019-11-08  3093.08  3,081.25  3,093.09  3,073.58\n",
       "5 2019-11-07  3085.18  3,087.02  3,097.77  3,080.23\n",
       "6 2019-11-06  3076.78  3,075.10  3,078.34  3,065.89\n",
       "7 2019-11-05  3074.62  3,080.80  3,083.95  3,072.15\n",
       "8 2019-11-04  3078.27  3,078.96  3,085.20  3,074.87\n",
       "9 2019-11-01  3066.91  3,050.72  3,066.95  3,050.72"
      ]
     },
     "execution_count": 39,
     "metadata": {},
     "output_type": "execute_result"
    }
   ],
   "source": [
    "data_frame['date'] = pd.to_datetime(data_frame.date)\n",
    "data_frame['price'] = pd.to_numeric(data_frame[\"price\"].astype(str).str.replace(\",\",\"\"))\n",
    "data_frame = data_frame.drop(['volume', 'change_percent'], axis = 1, errors = 'ignore')\n",
    "data_frame.set_index(\"date\")\n",
    "data_frame.head(10)"
   ]
  },
  {
   "cell_type": "markdown",
   "id": "47ad656a",
   "metadata": {},
   "source": [
    "## Create a basic plot (visualization)"
   ]
  },
  {
   "cell_type": "code",
   "execution_count": 40,
   "id": "23bd45ae",
   "metadata": {},
   "outputs": [
    {
     "data": {
      "text/plain": [
       "<AxesSubplot:xlabel='date'>"
      ]
     },
     "execution_count": 40,
     "metadata": {},
     "output_type": "execute_result"
    },
    {
     "data": {
      "image/png": "[encoded data removed]",
      "text/plain": [
       "<Figure size 720x432 with 1 Axes>"
      ]
     },
     "metadata": {
      "needs_background": "light"
     },
     "output_type": "display_data"
    }
   ],
   "source": [
    "data_frame.plot(x=\"date\", y=\"price\", figsize = (10, 6))"
   ]
  },
  {
   "cell_type": "code",
   "execution_count": null,
   "id": "2bffcd1e",
   "metadata": {},
   "outputs": [],
   "source": []
  }
 ],
 "metadata": {
  "kernelspec": {
   "display_name": "Python 3 (ipykernel)",
   "language": "python",
   "name": "python3"
  },
  "language_info": {
   "codemirror_mode": {
    "name": "ipython",
    "version": 3
   },
   "file_extension": ".py",
   "mimetype": "text/x-python",
   "name": "python",
   "nbconvert_exporter": "python",
   "pygments_lexer": "ipython3",
   "version": "3.9.9"
  }
 },
 "nbformat": 4,
 "nbformat_minor": 5
}
